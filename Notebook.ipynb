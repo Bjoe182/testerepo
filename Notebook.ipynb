{
 "cells": [
  {
   "cell_type": "markdown",
   "id": "cb9480bb-835b-4a1d-8e95-7714328d89ff",
   "metadata": {},
   "source": [
    "<h1> Notebook </h1>"
   ]
  },
  {
   "cell_type": "markdown",
   "id": "b2c50a0d-0b7a-40c3-bc58-d0942c593a58",
   "metadata": {
    "tags": []
   },
   "source": [
    "**Introdução**"
   ]
  },
  {
   "cell_type": "code",
   "execution_count": 2,
   "id": "8e05512a-4e54-4333-8b83-4b2aff6fbd97",
   "metadata": {
    "tags": []
   },
   "outputs": [
    {
     "name": "stdout",
     "output_type": "stream",
     "text": [
      "['Python', 'R', 'Java']\n"
     ]
    }
   ],
   "source": [
    "languages = [\"Python\", \"R\", \"Java\"]\n",
    "print(languages)"
   ]
  },
  {
   "cell_type": "code",
   "execution_count": 3,
   "id": "964eb61a-a6b8-42a4-a968-5d07c7a8a18a",
   "metadata": {
    "tags": []
   },
   "outputs": [
    {
     "name": "stdout",
     "output_type": "stream",
     "text": [
      "['NumPy', 'Pandas', 'Matplotlib']\n"
     ]
    }
   ],
   "source": [
    "libraries = [\"NumPy\", \"Pandas\", \"Matplotlib\"]\n",
    "print(libraries)"
   ]
  },
  {
   "cell_type": "code",
   "execution_count": 5,
   "id": "1fa1f2ea-e3f0-48e8-97bd-47bb81b5e3a1",
   "metadata": {
    "tags": []
   },
   "outputs": [
    {
     "name": "stdout",
     "output_type": "stream",
     "text": [
      "     Ferramenta                                          Descrição  \\\n",
      "0         NumPy  Biblioteca para computação numérica e manipula...   \n",
      "1        Pandas    Biblioteca para manipulação e análise de dados.   \n",
      "2    Matplotlib  Biblioteca para criação de gráficos estáticos ...   \n",
      "3       Seaborn  Biblioteca para criação de gráficos estatísticos.   \n",
      "4  Scikit-learn            Biblioteca para aprendizado de máquina.   \n",
      "5    TensorFlow              Biblioteca para aprendizado profundo.   \n",
      "6       PyTorch              Biblioteca para aprendizado profundo.   \n",
      "\n",
      "                   Uso Principal  \n",
      "0          Computação científica  \n",
      "1               Análise de dados  \n",
      "2          Visualização de dados  \n",
      "3          Visualização de dados  \n",
      "4  Modelagem de machine learning  \n",
      "5     Modelagem de deep learning  \n",
      "6     Modelagem de deep learning  \n"
     ]
    }
   ],
   "source": [
    "import pandas as pd\n",
    "\n",
    "# Dados das ferramentas de ciência de dados\n",
    "data = {\n",
    "    'Ferramenta': ['NumPy', 'Pandas', 'Matplotlib', 'Seaborn', 'Scikit-learn', 'TensorFlow', 'PyTorch'],\n",
    "    'Descrição': [\n",
    "        'Biblioteca para computação numérica e manipulação de arrays.',\n",
    "        'Biblioteca para manipulação e análise de dados.',\n",
    "        'Biblioteca para criação de gráficos estáticos e interativos.',\n",
    "        'Biblioteca para criação de gráficos estatísticos.',\n",
    "        'Biblioteca para aprendizado de máquina.',\n",
    "        'Biblioteca para aprendizado profundo.',\n",
    "        'Biblioteca para aprendizado profundo.'\n",
    "    ],\n",
    "    'Uso Principal': [\n",
    "        'Computação científica',\n",
    "        'Análise de dados',\n",
    "        'Visualização de dados',\n",
    "        'Visualização de dados',\n",
    "        'Modelagem de machine learning',\n",
    "        'Modelagem de deep learning',\n",
    "        'Modelagem de deep learning'\n",
    "    ]\n",
    "}\n",
    "\n",
    "# Criação do DataFrame\n",
    "df = pd.DataFrame(data)\n",
    "\n",
    "# Exibição da tabela\n",
    "print(df)"
   ]
  },
  {
   "cell_type": "code",
   "execution_count": 6,
   "id": "dbf3a381-f717-4c35-87da-b971c64bf13e",
   "metadata": {
    "tags": []
   },
   "outputs": [
    {
     "name": "stdout",
     "output_type": "stream",
     "text": [
      "6\n",
      "2\n",
      "8\n",
      "2.0\n",
      "2\n",
      "0\n",
      "16\n"
     ]
    }
   ],
   "source": [
    "# Adição\n",
    "soma = 4 + 2\n",
    "print(soma)  # Resultado: 6\n",
    "\n",
    "# Subtração\n",
    "subtracao = 4 - 2\n",
    "print(subtracao)  # Resultado: 2\n",
    "\n",
    "# Multiplicação\n",
    "multiplicacao = 4 * 2\n",
    "print(multiplicacao)  # Resultado: 8\n",
    "\n",
    "# Divisão\n",
    "divisao = 4 / 2\n",
    "print(divisao)  # Resultado: 2.0\n",
    "\n",
    "# Divisão inteira\n",
    "divisao_inteira = 4 // 2\n",
    "print(divisao_inteira)  # Resultado: 2\n",
    "\n",
    "# Módulo\n",
    "modulo = 4 % 2\n",
    "print(modulo)  # Resultado: 0\n",
    "\n",
    "# Exponenciação\n",
    "exponenciacao = 4 ** 2\n",
    "print(exponenciacao)  # Resultado: 16"
   ]
  },
  {
   "cell_type": "code",
   "execution_count": 7,
   "id": "9dfbfee1-6925-436c-9684-dfe732b27db1",
   "metadata": {
    "tags": []
   },
   "outputs": [
    {
     "name": "stdin",
     "output_type": "stream",
     "text": [
      "Digite o primeiro número:  3\n",
      "Digite o segundo número:  11\n"
     ]
    },
    {
     "name": "stdout",
     "output_type": "stream",
     "text": [
      "O produto de 3.0 e 11.0 é 33.0\n",
      "A soma de 3.0 e 11.0 é 14.0\n"
     ]
    }
   ],
   "source": [
    "# Solicita ao usuário para digitar dois números\n",
    "numero1 = float(input(\"Digite o primeiro número: \"))\n",
    "numero2 = float(input(\"Digite o segundo número: \"))\n",
    "\n",
    "# Multiplica os números\n",
    "produto = numero1 * numero2\n",
    "\n",
    "# Adiciona os números\n",
    "soma = numero1 + numero2\n",
    "\n",
    "# Exibe os resultados\n",
    "print(f\"O produto de {numero1} e {numero2} é {produto}\")\n",
    "print(f\"A soma de {numero1} e {numero2} é {soma}\")"
   ]
  },
  {
   "cell_type": "code",
   "execution_count": 8,
   "id": "64dc7c05-cdc8-4d0b-8cfb-adf7ab409d8c",
   "metadata": {
    "tags": []
   },
   "outputs": [
    {
     "name": "stdout",
     "output_type": "stream",
     "text": [
      "3 hours and 20 minutes\n"
     ]
    }
   ],
   "source": [
    "# This will convert 200 minutes to hours by diving by 60\n",
    "\n",
    "# Input: total minutes\n",
    "total_minutes = 200\n",
    "\n",
    "# Calculate hours and minutes\n",
    "hours = total_minutes // 60\n",
    "minutes = total_minutes % 60\n",
    "\n",
    "# Format the result as a string\n",
    "time = \"{} hours and {} minutes\".format(hours, minutes)\n",
    "\n",
    "# Print the result\n",
    "print(time)\n"
   ]
  },
  {
   "cell_type": "markdown",
   "id": "8381e6c4-03eb-423f-95e6-b84d81246ab6",
   "metadata": {},
   "source": [
    "<h3> Objetivos: </h3>"
   ]
  },
  {
   "cell_type": "markdown",
   "id": "ab3ea30b-0df8-4cf6-99e2-888d324b105e",
   "metadata": {},
   "source": [
    "<h2> Author </h2>\n"
   ]
  },
  {
   "cell_type": "markdown",
   "id": "9c99f99c-aa4b-44c3-be75-1316016e7b64",
   "metadata": {},
   "source": [
    "__Thiago Velloso__"
   ]
  },
  {
   "cell_type": "code",
   "execution_count": null,
   "id": "89df32bc-1c06-41c8-bccd-5127bd4056c8",
   "metadata": {},
   "outputs": [],
   "source": []
  }
 ],
 "metadata": {
  "kernelspec": {
   "display_name": "Python",
   "language": "python",
   "name": "conda-env-python-py"
  },
  "language_info": {
   "codemirror_mode": {
    "name": "ipython",
    "version": 3
   },
   "file_extension": ".py",
   "mimetype": "text/x-python",
   "name": "python",
   "nbconvert_exporter": "python",
   "pygments_lexer": "ipython3",
   "version": "3.7.12"
  }
 },
 "nbformat": 4,
 "nbformat_minor": 5
}
